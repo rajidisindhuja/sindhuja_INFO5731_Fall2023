{
  "cells": [
    {
      "cell_type": "markdown",
      "metadata": {
        "id": "view-in-github",
        "colab_type": "text"
      },
      "source": [
        "<a href=\"https://colab.research.google.com/github/rajidisindhuja/sindhuja_INFO5731_Fall2023/blob/main/Rajidi_Sindhuja_Assignment_01.ipynb\" target=\"_parent\"><img src=\"https://colab.research.google.com/assets/colab-badge.svg\" alt=\"Open In Colab\"/></a>"
      ]
    },
    {
      "cell_type": "markdown",
      "metadata": {
        "id": "Ryk8D1Q4Wsrp"
      },
      "source": [
        "# **INFO5731 Assignment One**"
      ]
    },
    {
      "cell_type": "markdown",
      "metadata": {
        "id": "90_NR8c5XGWc"
      },
      "source": [
        "# Question 1\n",
        "\n",
        "(20 points). Write a Python program to generate 12 random numbers between 1 and 100. Sort the list of numbers in ascending order and print it out. Sort the list of numbers in descending order and print it out. Calculate the average for the group and print it out."
      ]
    },
    {
      "cell_type": "code",
      "execution_count": 1,
      "metadata": {
        "id": "5QX6bJjGWXY9",
        "colab": {
          "base_uri": "https://localhost:8080/"
        },
        "outputId": "972e996c-95ce-40cd-ae2e-fb71c1fc6723"
      },
      "outputs": [
        {
          "output_type": "stream",
          "name": "stdout",
          "text": [
            "Generated random numbers: [77, 56, 27, 47, 86, 3, 76, 6, 16, 50, 14, 57]\n",
            "Sorted in ascending order: [3, 6, 14, 16, 27, 47, 50, 56, 57, 76, 77, 86]\n",
            "Sorted in descending order: [86, 77, 76, 57, 56, 50, 47, 27, 16, 14, 6, 3]\n",
            "Average of the numbers: 42.916666666666664\n"
          ]
        }
      ],
      "source": [
        "import random\n",
        "# Generate 12 random numbers between 1 and 100, random module is used to generate random numbers\n",
        "\n",
        "random_num = [random.randint(1, 100) for _ in range(12)]\n",
        "# randint is used to genrate random integes in the specified range\n",
        "\n",
        "ascending_order = sorted(random_num)\n",
        "# sorted method is used to sort numbers, by default it is ascending order.\n",
        "\n",
        "descending_order = sorted(random_num, reverse=True)\n",
        "#to get descending order , pass the argument reverse as true\n",
        "\n",
        "# here we are calculating the average\n",
        "average = sum(random_num) / len(random_num)\n",
        "\n",
        "print(\"Generated random numbers:\", random_num)\n",
        "print(\"Sorted in ascending order:\", ascending_order)\n",
        "print(\"Sorted in descending order:\", descending_order)\n",
        "print(\"Average of the numbers:\", average)\n",
        "\n"
      ]
    },
    {
      "cell_type": "markdown",
      "metadata": {
        "id": "1F_PZdH9Sh49"
      },
      "source": [
        "# Question 2\n",
        "(25 points).\n",
        "\n",
        "Write a program that will do the following string formatting tasks:\n",
        "\n",
        "(1) Ask the user to enter two sentences.\n",
        "\n",
        "(2) Make each sentence into a list. Each element in the list should correspond to a word in the sentence. For example, if the sentence is \"Alas! Am I alive? This is my first python program\", the program should print out ['Alas, '!', 'Am', 'I', 'alive, '?', 'This', 'is', 'my', 'first', 'python', 'program'].\n",
        "\n",
        "(3) Compare the two sentences. Print out a list of words that occur in both sentences.\n",
        "\n",
        "(4) Remove any punctuation from the sentence and print it back out. It should remove at least the following characters, but it can remove more: period(“.”), comma (“,”), semicolon (“;”), and colon (“:”)\n",
        "\n",
        "(5) Count the number of vowels in the sentences. Print out each vowel and the number of times it appears in the sentences, such as: a:2, e:1, i:0, etc"
      ]
    },
    {
      "cell_type": "code",
      "execution_count": 3,
      "metadata": {
        "id": "Y0oOSlsOS0cq",
        "colab": {
          "base_uri": "https://localhost:8080/"
        },
        "outputId": "f84eb2f7-b5be-46c4-e649-629311f2dd27"
      },
      "outputs": [
        {
          "output_type": "stream",
          "name": "stdout",
          "text": [
            "Enter first sentence: This is the first assignment in the class.\n",
            "Enter second sentence: Welcome to google Colab!\n",
            "['This', 'is', 'the', 'first', 'assignment', 'in', 'the', 'class.']\n",
            "['Welcome', 'to', 'google', 'Colab!']\n",
            "Common words in both sentences: []\n",
            "First sentence without punctuation: This is the first assignment in the class\n",
            "Second sentence without punctuation: Welcome to google Colab\n",
            "Count of vowels in the first input sentence: {'a': 2, 'e': 3, 'i': 5, 'o': 0, 'u': 0, 'A': 0, 'E': 0, 'I': 0, 'O': 0, 'U': 0}\n",
            "Count of vowels in the second input sentence: {'a': 2, 'e': 3, 'i': 5, 'o': 0, 'u': 0, 'A': 0, 'E': 0, 'I': 0, 'O': 0, 'U': 0}\n"
          ]
        }
      ],
      "source": [
        "import string\n",
        "\n",
        "# Split is the Function to split a sentence into words and remove punctuation\n",
        "def split_sentence(sentence):\n",
        "    # Split the sentence into words and keeping punctuation\n",
        "    words = []\n",
        "    word = ''\n",
        "    for char in sentence:\n",
        "        if char.isalnum() or char in string.punctuation:\n",
        "            word += char\n",
        "        else:\n",
        "            if word:\n",
        "                words.append(word)\n",
        "            word = ''\n",
        "    if word:\n",
        "        words.append(word)\n",
        "    return words\n",
        "\n",
        "def remove_punctuation(sentence):\n",
        "    #here we are removing all the specified punctuations from the senrence\n",
        "    convert = str.maketrans('', '', string.punctuation)\n",
        "    new_sentence = sentence.translate(convert)\n",
        "    return new_sentence\n",
        "\n",
        "# Function to count vowels in a sentence\n",
        "def count_of_vowels(sentence):\n",
        "    vowels_upper_lower = \"aeiouAEIOU\"\n",
        "    vowel_count = {vowel: 0 for vowel in vowels_upper_lower}\n",
        "\n",
        "    for char in sentence:\n",
        "        if char in vowels_upper_lower:\n",
        "            vowel_count[char.lower()] += 1\n",
        "\n",
        "    return vowel_count\n",
        "\n",
        "# here we'll are going to input two sentence\n",
        "sentence_1 = input(\"Enter first sentence: \")\n",
        "sentence_2 = input(\"Enter second sentence: \")\n",
        "\n",
        "# the entered sentenses were splitted into lists\n",
        "splited_sentence1 = split_sentence(sentence_1)\n",
        "splited_sentence2 = split_sentence(sentence_2)\n",
        "print(splited_sentence1)\n",
        "print(splited_sentence2)\n",
        "\n",
        "# using and operator , to comapare two input sentenses and finding common words\n",
        "common_inboth = list(set(splited_sentence1) & set(splited_sentence2))\n",
        "\n",
        "#  printing common words\n",
        "print(\"Common words in both sentences:\", common_inboth)\n",
        "\n",
        "# Remove punctuation from sentences\n",
        "new_sentence1 = remove_punctuation(sentence_1)\n",
        "new_sentence2 = remove_punctuation(sentence_2)\n",
        "print(\"First sentence without punctuation:\", new_sentence1)\n",
        "print(\"Second sentence without punctuation:\", new_sentence2)\n",
        "\n",
        "# Count vowels in both sentences\n",
        "vowel_count1 = count_of_vowels(new_sentence1)\n",
        "vowel_count2 = count_of_vowels(new_sentence1)\n",
        "\n",
        "# Print vowel counts for both sentences\n",
        "print(\"Count of vowels in the first input sentence:\", vowel_count1)\n",
        "print(\"Count of vowels in the second input sentence:\", vowel_count2)\n",
        "\n",
        "\n"
      ]
    },
    {
      "cell_type": "markdown",
      "metadata": {
        "id": "CmFoI4jDS9nx"
      },
      "source": [
        "# Question 3\n",
        "\n",
        "(15 points). The formula that describes the volume V of a sphere with radius r is the following:\n",
        "\n",
        "$ V=\\frac{4}{3}\\ast\\ \\pi\\ast\\ r^3 $\n",
        "\n",
        "Write a program to calculate the value of V when r is in the range of 1–10. Output the result in the following format:\n",
        "\n",
        "\tr\tV\n",
        "\t1\t…\n",
        "\t2\t…\n",
        "\t3\t…\n"
      ]
    },
    {
      "cell_type": "code",
      "execution_count": 7,
      "metadata": {
        "id": "pEyqeioAT95b",
        "colab": {
          "base_uri": "https://localhost:8080/"
        },
        "outputId": "302d80ac-7c67-4554-e45f-7132b7be9263"
      },
      "outputs": [
        {
          "output_type": "stream",
          "name": "stdout",
          "text": [
            "1    4.19\n",
            "2    33.51\n",
            "3    113.10\n",
            "4    268.08\n",
            "5    523.60\n",
            "6    904.78\n",
            "7    1436.76\n",
            "8    2144.66\n",
            "9    3053.63\n",
            "10    4188.79\n"
          ]
        }
      ],
      "source": [
        "import math\n",
        "# Here we are calculating each value of radius from range of 1 to 10 and print the volume for each radius\n",
        "for radius in range(1, 11):\n",
        "    vol = (4/3) * math.pi * (radius ** 3)\n",
        "    print(f\"{radius}    {vol:.2f}\")"
      ]
    },
    {
      "cell_type": "markdown",
      "metadata": {
        "id": "z3tBE7E-Xn5X"
      },
      "source": [
        "# Question 4\n",
        "\n",
        "(40 points). In the field of Data Science, data is often formatted as a comma-delimited (CSV) file, where each line in a file corresponds to a field's value. Refer to Chapter 9 (p. 106) for more information on comma-delimited files. To answer this question, you will need to download the file [Assignment1_denton_housing.csv](https://raw.githubusercontent.com/unt-iialab/info5731-spring2022/main/assignments/Assignment1_denton_housing.csv) included with this assignment. The file [Assignment1_denton_housing.csv](https://raw.githubusercontent.com/unt-iialab/info5731-spring2022/main/assignments/Assignment1_denton_housing.csv) contains statistics about housing in the city of Denton from 2008 to 2014. Write a program to implement the following questions.\n",
        "\n",
        "(1) (10 pts) Calculate the difference in the number of Occupied Housing Units from year to year and print it. The difference must be calculated for the consecutive years such as 2008-2009, 2009-2010 etc. Finally, print the values in the ascending order.\n",
        "\n",
        "(2) (10 pts) For all the years, calculate the percentage of housing units which are vacant an occupied. Print the results in the following format:\n",
        "\n",
        "Year Vacant Housing Units Occupied Housing Units\n",
        "\n",
        "    2008  30%   70%                          \n",
        "\t2009 ----- -----\n",
        "\t2010 ----- -----\n",
        "    2011 ----- -----\n",
        "\t2012 ----- -----\n",
        "    2013 ----- -----\n",
        "\t2014 ----- -----\n",
        "  \n",
        "  \n",
        "\n",
        "(3) (10 pts) Calculate and print the valued and years in which the highest number of housing units were vacant and occupied. Print the results in the following format:  \n",
        "\n",
        "                              Year\tValue\n",
        "\tVacant Housing Units\t  -----   -----\n",
        "\tOccupied Housing Units\t-----   -----\n",
        "\n",
        "(4) (10 pts) Calculate the harmonic mean of the total housing units and print it out. You can find the information about harmonic mean here: https://ncalculators.com/statistics/harmonic-mean-calculator.htm"
      ]
    },
    {
      "cell_type": "code",
      "execution_count": 13,
      "metadata": {
        "id": "lqGYuHBhcsRH",
        "colab": {
          "base_uri": "https://localhost:8080/"
        },
        "outputId": "4d5b5fa9-5bd6-486a-a325-c3cafec6e587"
      },
      "outputs": [
        {
          "output_type": "stream",
          "name": "stdout",
          "text": [
            "17    -795.0\n",
            "11    -303.0\n",
            "8     1404.0\n",
            "5     1565.0\n",
            "2     2622.0\n",
            "14    5091.0\n",
            "Name: value, dtype: float64\n",
            "Year  Vacant Housing Units  Occupied Housing Units\n",
            "2008    10.88%              89.12%\n",
            "2009    9.07%              90.93%\n",
            "2010    8.14%              91.86%\n",
            "2011    9.38%              90.62%\n",
            "2012    6.68%              93.32%\n",
            "2013    8.80%              91.20%\n",
            "2014    5.73%              94.27%\n",
            "Year    Value\n",
            "Vacant Housing Units      2008      4483\n",
            "Occupied Housing Units    2014      46295\n",
            "Harmonic Mean of Total Housing Units: 3657.434087880617\n"
          ]
        }
      ],
      "source": [
        "import pandas as pd\n",
        "import numpy as np\n",
        "\n",
        "# Specify the file path where csv file is uploaded\n",
        "path_of_file = '/content/drive/MyDrive/assignment/Assignment1_denton_housing.csv'\n",
        "# Reading the CSV file into a Pandas DataFrame\n",
        "df = pd.read_csv(path_of_file)\n",
        "#(1)\n",
        "# here we are filtering the DataFrame to only include rows with \"Occupied Housing Units\"\n",
        "occ_hou_units = df[df['title_field'] == 'Occupied Housing Units']\n",
        "\n",
        "# here we are sorting the dataFrame by year\n",
        "occ_hou_units = occ_hou_units.sort_values('year')\n",
        "\n",
        "# here we are calculating the differences between years\n",
        "diff_betw_years = occ_hou_units['value'].diff().dropna()\n",
        "\n",
        "# resorting them in ascending order\n",
        "difference_asce = diff_betw_years.sort_values()\n",
        "\n",
        "print(difference_asce)\n",
        "# --------------------------------------------\n",
        "#(2)\n",
        "pivot_df = df.pivot(index='year', columns='title_field', values='value')\n",
        "\n",
        "# Calculate the percentage of vacant and occupied housing units\n",
        "pivot_df['Percentage_of_vhu'] = (pivot_df['Vacant Housing Units'] / pivot_df['Total Housing Units']) * 100\n",
        "pivot_df['Percentage_of_ohu'] = (pivot_df['Occupied Housing Units'] / pivot_df['Total Housing Units']) * 100\n",
        "\n",
        "print(\"Year  Vacant Housing Units  Occupied Housing Units\")\n",
        "for year, row in pivot_df.iterrows():\n",
        "    print(f\"{year}    {row['Percentage_of_vhu']:.2f}%              {row['Percentage_of_ohu']:.2f}%\")\n",
        "#--------------------------------------------------\n",
        "#(3)\n",
        "vhu_df = df[df['title_field'] == 'Vacant Housing Units']\n",
        "ohu_df = df[df['title_field'] == 'Occupied Housing Units']\n",
        "# here we are finding the highest number of vacant and occupied housing units with year and value as constraints\n",
        "highest_year_value_of_vhu = vhu_df.loc[vhu_df['value'].idxmax()]\n",
        "highest_year_value_of_ohu = ohu_df.loc[ohu_df['value'].idxmax()]\n",
        "\n",
        "print(\"Year    Value\")\n",
        "print(f\"Vacant Housing Units      {highest_year_value_of_vhu['year']}      {highest_year_value_of_vhu['value']}\")\n",
        "print(f\"Occupied Housing Units    {highest_year_value_of_ohu['year']}      {highest_year_value_of_ohu['value']}\")\n",
        "#--------------------------------------------------------\n",
        "#(4)\n",
        "# here we are calculating the harmonic mean of total housing units\n",
        "harmonic_mean = len(df) / np.sum(1 / df['value'])\n",
        "print(\"Harmonic Mean of Total Housing Units:\", harmonic_mean)\n",
        "\n"
      ]
    },
    {
      "cell_type": "code",
      "source": [
        "from google.colab import drive\n",
        "drive.mount('/content/drive')"
      ],
      "metadata": {
        "colab": {
          "base_uri": "https://localhost:8080/"
        },
        "id": "YXt-9d6WFkfz",
        "outputId": "87738d12-f585-41e3-c11d-9015bf19337a"
      },
      "execution_count": 12,
      "outputs": [
        {
          "output_type": "stream",
          "name": "stdout",
          "text": [
            "Mounted at /content/drive\n"
          ]
        }
      ]
    },
    {
      "cell_type": "code",
      "source": [],
      "metadata": {
        "id": "vnTPTw4nCGaE"
      },
      "execution_count": null,
      "outputs": []
    }
  ],
  "metadata": {
    "colab": {
      "provenance": [],
      "include_colab_link": true
    },
    "kernelspec": {
      "display_name": "Python 3 (ipykernel)",
      "language": "python",
      "name": "python3"
    },
    "language_info": {
      "codemirror_mode": {
        "name": "ipython",
        "version": 3
      },
      "file_extension": ".py",
      "mimetype": "text/x-python",
      "name": "python",
      "nbconvert_exporter": "python",
      "pygments_lexer": "ipython3",
      "version": "3.9.12"
    }
  },
  "nbformat": 4,
  "nbformat_minor": 0
}