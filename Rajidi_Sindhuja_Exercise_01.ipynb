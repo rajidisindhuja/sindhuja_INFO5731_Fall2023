{
  "cells": [
    {
      "cell_type": "markdown",
      "metadata": {
        "id": "view-in-github",
        "colab_type": "text"
      },
      "source": [
        "<a href=\"https://colab.research.google.com/github/rajidisindhuja/sindhuja_INFO5731_Fall2023/blob/main/Rajidi_Sindhuja_Exercise_01.ipynb\" target=\"_parent\"><img src=\"https://colab.research.google.com/assets/colab-badge.svg\" alt=\"Open In Colab\"/></a>"
      ]
    },
    {
      "cell_type": "markdown",
      "metadata": {
        "id": "DymRJbxDBCnf"
      },
      "source": [
        "# **The first In-class-exercise (08/30/2023, 40 points in total)**\n",
        "This exercise is due tomorrow 08/31/203 11:59 PM.\n"
      ]
    },
    {
      "cell_type": "markdown",
      "source": [
        "(1) Write a Python program to calculate the area of a rectangle using user-input length and width."
      ],
      "metadata": {
        "id": "FBKvD6O_TY6e"
      }
    },
    {
      "cell_type": "code",
      "source": [
        "bre= float(input(\"Enter breadth of the rectangle \\n\"))\n",
        "len= float(input(\"Enter length of the rectangle \\n\"))\n",
        "area= len*bre #enter length and breadth of the rectangle and area of rectangle is lenght*breadth\n",
        "print(\"Area of the rectangle is \\n\",area)"
      ],
      "metadata": {
        "id": "cikVKDXdTbzE",
        "colab": {
          "base_uri": "https://localhost:8080/"
        },
        "outputId": "4c52f8ca-65d6-4d5b-d7a0-9794559af221"
      },
      "execution_count": 1,
      "outputs": [
        {
          "output_type": "stream",
          "name": "stdout",
          "text": [
            "Enter breadth of the rectangle \n",
            "5\n",
            "Enter length of the rectangle \n",
            "2\n",
            "Area of the rectangle is \n",
            " 10.0\n"
          ]
        }
      ]
    },
    {
      "cell_type": "markdown",
      "source": [
        "(2) Create a program that takes two numbers from the user and swaps their values without using a temporary variable."
      ],
      "metadata": {
        "id": "E9RqrlwdTfvl"
      }
    },
    {
      "cell_type": "code",
      "source": [
        "x= float(input(\"Enter the first number \\n\"))\n",
        "y= float(input(\"Enter the second number \\n\"))\n",
        "x,y = y,x\n",
        " # Interchanging the values takes place\n",
        "print(\"The swaped values of x and y are \\n\" ,x,y)"
      ],
      "metadata": {
        "id": "4XvRknixTh1g",
        "colab": {
          "base_uri": "https://localhost:8080/"
        },
        "outputId": "7b3309bf-b7a6-491a-f923-311a32017196"
      },
      "execution_count": 2,
      "outputs": [
        {
          "output_type": "stream",
          "name": "stdout",
          "text": [
            "Enter the first number \n",
            "5\n",
            "Enter the second number \n",
            "3\n",
            "The swaped values of x and y are \n",
            " 3.0 5.0\n"
          ]
        }
      ]
    },
    {
      "cell_type": "markdown",
      "metadata": {
        "id": "03jb4GZsBkBS"
      },
      "source": [
        "(3) Write a Python program to calculate the length of a string."
      ]
    },
    {
      "cell_type": "code",
      "execution_count": 13,
      "metadata": {
        "id": "YaGLbSHHB8Ej",
        "colab": {
          "base_uri": "https://localhost:8080/"
        },
        "outputId": "b40ac757-6864-4f2a-bc03-0d14a3440085"
      },
      "outputs": [
        {
          "output_type": "stream",
          "name": "stdout",
          "text": [
            "Enter the string ton caluculate the length \n",
            "hello\n",
            "Length of the string is  5\n"
          ]
        }
      ],
      "source": [
        "a = input(\"Enter the string ton caluculate the length \\n\")\n",
        "count = 0 #initalize count to 0\n",
        "for i in a:\n",
        "  count = count+1 #increment count for each iterarton\n",
        "print(\"Length of the string is \",count)\n"
      ]
    },
    {
      "cell_type": "markdown",
      "metadata": {
        "id": "jJDe71iLB616"
      },
      "source": [
        "(4) Write a Python program to count the number of characters in a string.\n",
        "\n",
        "Sample String : 'google.com‘,\n",
        "\n",
        "Expected Result : {'o': 3, 'g': 2, '.': 1, 'e': 1, 'l': 1, 'm': 1, 'c': 1}"
      ]
    },
    {
      "cell_type": "code",
      "execution_count": 15,
      "metadata": {
        "id": "MtKskTzbCLaU",
        "colab": {
          "base_uri": "https://localhost:8080/"
        },
        "outputId": "1c60bfa8-3268-4207-9886-4cf7df5a67d2"
      },
      "outputs": [
        {
          "output_type": "stream",
          "name": "stdout",
          "text": [
            "{'y': 1, 'u': 2, 't': 1, 'n': 1, 'm': 1, 'e': 1, 'd': 1, '.': 2}\n"
          ]
        }
      ],
      "source": [
        "str = 'my.unt.edu'\n",
        "count_dict={}\n",
        "for char in str: #here we are iterating each character from the string throgh the loop to get the count of each character\n",
        "    if char in count_dict:\n",
        "        count_dict[char] += 1\n",
        "    else:\n",
        "        count_dict[char] = 1\n",
        "print(dict(sorted(count_dict.items(), reverse=True)))"
      ]
    },
    {
      "cell_type": "markdown",
      "metadata": {
        "id": "55W9AMdXCSpV"
      },
      "source": [
        "(5) Write a Python program to sum all the items in a list."
      ]
    },
    {
      "cell_type": "code",
      "execution_count": 18,
      "metadata": {
        "id": "I57NXsauCec2",
        "colab": {
          "base_uri": "https://localhost:8080/"
        },
        "outputId": "a891956a-236e-4afe-a43d-f64786d6df40"
      },
      "outputs": [
        {
          "output_type": "stream",
          "name": "stdout",
          "text": [
            "Sum of all the elements in the list: 62\n"
          ]
        }
      ],
      "source": [
        "new_list= [31,8,23]\n",
        "sum_of_eles = 0\n",
        "for ele in new_list: #here we are iterating through each element of the list through loop to get the sum of elements\n",
        "    sum_of_eles =sum_of_eles+ele\n",
        "print(\"Sum of all the elements in the list:\", sum_of_eles)"
      ]
    },
    {
      "cell_type": "markdown",
      "metadata": {
        "id": "4ulBZ6yhCi9F"
      },
      "source": [
        "(6) Write a Python program to get a string from a given string where all occurrences of its first char have been changed to '\\$', except the first char itself.\n",
        "\n",
        "Sample String : 'restart‘,\n",
        "\n",
        "Expected Result : 'resta\\$t'"
      ]
    },
    {
      "cell_type": "code",
      "execution_count": 19,
      "metadata": {
        "id": "Fj0XhwbBCw2o",
        "colab": {
          "base_uri": "https://localhost:8080/"
        },
        "outputId": "ea51752b-c9db-4b14-c188-238488b28ed0"
      },
      "outputs": [
        {
          "output_type": "stream",
          "name": "stdout",
          "text": [
            "Final output string: resta$t\n"
          ]
        }
      ],
      "source": [
        "string1 = 'restart'\n",
        "if string1:\n",
        "    first_char = string1[0] ## here we are taking the fisrt charecter from the string\n",
        "    result = first_char + string1[1:].replace(first_char, '$')\n",
        "    ## here we are using replace function to replace all the charecters same as first charecter in the given sample_string\n",
        "    ##excluding first charecter\n",
        "    print(\"Final output string:\", result)\n"
      ]
    },
    {
      "cell_type": "markdown",
      "source": [
        "(7) Create a program that calculates the factorial of a number using a while loop."
      ],
      "metadata": {
        "id": "qVXA3q7ET5JI"
      }
    },
    {
      "cell_type": "code",
      "source": [
        "num = int(input(\"Enter any number: \"))\n",
        "if num < 0:\n",
        "    print(\"Factorial can not be calculated for negative numbers\")\n",
        "    # Factorial is not possible if the number is negitive\n",
        "else:\n",
        "  fact = 1 #here we are initializing the fact value to 1 to start the factorial\n",
        "  i = 1\n",
        "  while i <= num:# here we are using while loop to calculate factorial\n",
        "    fact *= i\n",
        "    i += 1\n",
        "print(\"The factorial of given number is\",fact)"
      ],
      "metadata": {
        "id": "Lbt7R6UkT7BA",
        "colab": {
          "base_uri": "https://localhost:8080/"
        },
        "outputId": "1e92c792-07bf-48cf-ccb9-41ec121f8fdf"
      },
      "execution_count": 21,
      "outputs": [
        {
          "output_type": "stream",
          "name": "stdout",
          "text": [
            "Enter any number: 3\n",
            "The factorial of given number is 6\n"
          ]
        }
      ]
    },
    {
      "cell_type": "markdown",
      "source": [
        "(8) Create a program that takes a list of numbers as input and outputs a new list with only the even numbers."
      ],
      "metadata": {
        "id": "6YfbzXMNT--R"
      }
    },
    {
      "cell_type": "code",
      "source": [
        "list1= [] # an empty list is considered\n",
        "n = int(input(\"enter the number of elements:\")) #specify the number of elements or size of the list\n",
        "for i in range(1,n+1):\n",
        "  list_elements=int(input(\"enter the element \")) #enter the elments of the list\n",
        "  list1.append(list_elements)#taking an element from the user and appending it to the list\n",
        "print(\"The input list is \",list1)\n",
        "even_eles = [] #taking an empty list to put the even numbers\n",
        "\n",
        "for i in list1:\n",
        "    if int(i) % 2 == 0:#checking the element in the list is even or not\n",
        "        even_eles.append(int(i))#appending it to the even_eles list\n",
        "\n",
        "print(\"Even numbers in the original list are:\", even_eles)"
      ],
      "metadata": {
        "id": "54q7wMQPUAKu",
        "colab": {
          "base_uri": "https://localhost:8080/"
        },
        "outputId": "4ccecf31-8782-4c15-aeda-adc054b7febc"
      },
      "execution_count": 22,
      "outputs": [
        {
          "output_type": "stream",
          "name": "stdout",
          "text": [
            "enter the number of elements:5\n",
            "enter the element 1\n",
            "enter the element 2\n",
            "enter the element 3\n",
            "enter the element 4\n",
            "enter the element 5\n",
            "The input list is  [1, 2, 3, 4, 5]\n",
            "Even numbers in the original list are: [2, 4]\n"
          ]
        }
      ]
    },
    {
      "cell_type": "markdown",
      "metadata": {
        "id": "_bIP7s1MCzue"
      },
      "source": [
        "(9) Write a program with python which could accept two parameter a and b to calculate and output the result of S, where\n",
        "\n",
        "$\\ S=3.14*(1+a/b)^3$\n",
        "\n"
      ]
    },
    {
      "cell_type": "code",
      "execution_count": 23,
      "metadata": {
        "id": "w79QilHXD3Mg",
        "colab": {
          "base_uri": "https://localhost:8080/"
        },
        "outputId": "f7ca60d7-3f97-471e-dbd3-aabab5fa4a07"
      },
      "outputs": [
        {
          "output_type": "stream",
          "name": "stdout",
          "text": [
            "enter the value of first number: 4\n",
            "enter the value of second number: 5\n",
            "18.312480000000004\n"
          ]
        }
      ],
      "source": [
        "first_num= float(input(\"enter the value of first number: \"))\n",
        "second_num= float(input(\"enter the value of second number: \"))\n",
        "s=3.14*(1+(first_num/second_num))**3\n",
        "print(s)\n"
      ]
    },
    {
      "cell_type": "markdown",
      "metadata": {
        "id": "xCa2bK9aD4Q3"
      },
      "source": [
        "(10) Write a Python program to concatenate following dictionaries to create a new one.\n",
        "\n",
        "Sample Dictionary : dic1={1:10, 2:20}, dic2={3:30, 4:40}, dic3={5:50,6:60},\n",
        "\n",
        "Expected Result : {1: 10, 2: 20, 3: 30, 4: 40, 5: 50, 6: 60}\n"
      ]
    },
    {
      "cell_type": "code",
      "execution_count": 24,
      "metadata": {
        "id": "_z4aLqAbEET1",
        "colab": {
          "base_uri": "https://localhost:8080/"
        },
        "outputId": "fedde367-2852-4272-a1ee-fb8cae5a455d"
      },
      "outputs": [
        {
          "output_type": "stream",
          "name": "stdout",
          "text": [
            "Expected result:  {1: 10, 2: 20, 3: 30, 4: 40, 5: 50, 6: 60}\n"
          ]
        }
      ],
      "source": [
        "dict1={1:10,2:20}\n",
        "dict2={3:30,4:40}\n",
        "dict3={5:50,6:60}# three given sample dictionaries were given\n",
        "result= {} #taking a result dictionary and using update function to include all the 3 dictionaries\n",
        "result.update(dict1)\n",
        "result.update(dict2)\n",
        "result.update(dict3)\n",
        "print(\"Expected result: \",result)"
      ]
    },
    {
      "cell_type": "markdown",
      "source": [
        "(11) Write a Python function that accepts a tuple of integers and returns the largest and smallest elements."
      ],
      "metadata": {
        "id": "bkyZ2xSZUOst"
      }
    },
    {
      "cell_type": "code",
      "source": [
        "new_tuple= (1,9,3,7,6) #sample tuple taken with 5 integers\n",
        "largest_ele=smallest_ele=new_tuple[0] # here we are inigtializing the largest and smallest numbers\n",
        "for ele in new_tuple: # here we are iterating the items in the tuple through for loop get the smallest and largets numbers\n",
        "  if ele > largest_ele:\n",
        "    largest_ele = ele\n",
        "  elif ele < smallest_ele:\n",
        "    smallest_ele = ele\n",
        "print(\"Largest number in the tuple:\", largest_ele)\n",
        "print(\"Smallest number in the tuple:\", smallest_ele)"
      ],
      "metadata": {
        "id": "3FdLRBKOUQEd",
        "colab": {
          "base_uri": "https://localhost:8080/"
        },
        "outputId": "f7576a51-09ef-4186-af15-61387c5afe17"
      },
      "execution_count": 25,
      "outputs": [
        {
          "output_type": "stream",
          "name": "stdout",
          "text": [
            "Largest number in the tuple: 9\n",
            "Smallest number in the tuple: 1\n"
          ]
        }
      ]
    },
    {
      "cell_type": "markdown",
      "source": [
        "(12) Write a Python program that counts the frequency of each character in a given string and stores it in a dictionary."
      ],
      "metadata": {
        "id": "O0TVi3gKUTpp"
      }
    },
    {
      "cell_type": "code",
      "source": [
        "new_string = input(\"Enter a string: \") #taking a sample input string\n",
        "count_frequency = {} #creating a dictionary to store the character frequency\n",
        "for char in new_string: #iterating each charecter in the string through the for loop\n",
        "    if char in count_frequency:\n",
        "        count_frequency[char] += 1\n",
        "    else:\n",
        "        # If a character is found then its frequency is calculated\n",
        "        count_frequency[char] = 1\n",
        "# Print the character frequencies\n",
        "print(\"Character frequencies:\")\n",
        "for char, count in count_frequency.items():\n",
        "    print(f\"'{char}': {count}\")"
      ],
      "metadata": {
        "id": "lAtfSfZXUU-h",
        "colab": {
          "base_uri": "https://localhost:8080/"
        },
        "outputId": "baee3474-914f-4a0e-e916-7c92e358831f"
      },
      "execution_count": 26,
      "outputs": [
        {
          "output_type": "stream",
          "name": "stdout",
          "text": [
            "Enter a string: hello\n",
            "Character frequencies:\n",
            "'h': 1\n",
            "'e': 1\n",
            "'l': 2\n",
            "'o': 1\n"
          ]
        }
      ]
    },
    {
      "cell_type": "markdown",
      "metadata": {
        "id": "0v48Vqa7FrQh"
      },
      "source": [
        "(13) Write a Python program to check whether an element exists within a tuple."
      ]
    },
    {
      "cell_type": "code",
      "execution_count": 27,
      "metadata": {
        "id": "7WEmgq-DF2P1",
        "colab": {
          "base_uri": "https://localhost:8080/"
        },
        "outputId": "31d98167-d1be-4b6c-de81-6ca130eab728"
      },
      "outputs": [
        {
          "output_type": "stream",
          "name": "stdout",
          "text": [
            "Enter an element to be checked: 5\n",
            "Tuple has the element  5\n"
          ]
        }
      ],
      "source": [
        "new_tuple= (1,2,3,4,5,6)\n",
        "check_ele= int(input(\"Enter an element to be checked: \"))\n",
        "# Check if the element exists in the tuple\n",
        "if check_ele in new_tuple:\n",
        "    print(\"Tuple has the element \",check_ele)\n",
        "else:\n",
        "    print(\"sample tuple does not consists of the element \",check_ele)\n"
      ]
    },
    {
      "cell_type": "markdown",
      "metadata": {
        "id": "vD5PYLMuGga_"
      },
      "source": [
        "(14) Write a Python program to find maximum and the minimum value in a set."
      ]
    },
    {
      "cell_type": "code",
      "execution_count": 29,
      "metadata": {
        "id": "t0D5kdJUGjjw",
        "colab": {
          "base_uri": "https://localhost:8080/"
        },
        "outputId": "f1d98a70-8bd2-4e93-e6a5-e87b0f41747a"
      },
      "outputs": [
        {
          "output_type": "stream",
          "name": "stdout",
          "text": [
            "Maximum value in the set: 51\n",
            "Minimum value in the set: 2\n"
          ]
        }
      ],
      "source": [
        "set1 = {11,2,31,4,51} # sample set with some integer values\n",
        "print(\"Maximum value in the set:\", max(set1))\n",
        "print(\"Minimum value in the set:\", min(set1))\n"
      ]
    },
    {
      "cell_type": "markdown",
      "metadata": {
        "id": "uHkd-y5VhVWC"
      },
      "source": [
        "(15) Write a Python program to randomly divide the students in this class into six groups for term projects, each group should have at least 4 students but no more than 6 students (including 6). Here is the students list:\n",
        "student_list_fall_2023=['sb1826' ,\n",
        " 'lb0582' ,\n",
        " 'ab1820' ,\n",
        " 'sb1883' ,\n",
        " 'mb1296' ,\n",
        " 'sc1622' ,\n",
        " 'tc0469' ,\n",
        " 'ac1770' ,\n",
        " 'mc1453' ,\n",
        " 'ad1187' ,\n",
        " 'sd0926' ,\n",
        " 'sd1268' ,\n",
        " 'ag1609' ,\n",
        " 'sg1638' ,\n",
        " 'mg1299' ,\n",
        " 'vkk0022' ,\n",
        " 'bk0413' ,\n",
        " 'gk0257' ,\n",
        " 'am2807' ,\n",
        " 'gm0558' ,\n",
        " 'pm0658' ,\n",
        " 'am2346' ,\n",
        " 'rm1090' ,\n",
        " 'sm2364' ,\n",
        " 'sm2747' ,\n",
        " 'sm2343' ,\n",
        " 'vm0597' ,\n",
        " 'htn0086' ,\n",
        " 'sp2075' ,\n",
        " 'gp0306' ,\n",
        " 'lp0502' ,\n",
        " 'sr1508' ,\n",
        " 'vr0331' ,\n",
        " 'yr0180' ,\n",
        " 'as2819' ,\n",
        " 'ss2981' ,\n",
        " 'ns0756' ,\n",
        " 'mt0825' ,\n",
        " 'dt0463' ,\n",
        " 'su0137' ,\n",
        " 'dv0310'\n",
        "]"
      ]
    },
    {
      "cell_type": "code",
      "execution_count": null,
      "metadata": {
        "id": "3iGbmcOBhTwy"
      },
      "outputs": [],
      "source": [
        "import random\n",
        "student_list_fall_2023=['sb1826' , 'lb0582' , 'ab1820' , 'sb1883' , 'mb1296' , 'sc1622' , 'tc0469' , 'ac1770' , 'mc1453' , 'ad1187' , 'sd0926' , 'sd1268' , 'ag1609' , 'sg1638' , 'mg1299' , 'vkk0022' , 'bk0413' , 'gk0257' , 'am2807' , 'gm0558' , 'pm0658' , 'am2346' , 'rm1090' , 'sm2364' , 'sm2747' , 'sm2343' , 'vm0597' , 'htn0086' , 'sp2075' , 'gp0306' , 'lp0502' , 'sr1508' , 'vr0331' , 'yr0180' , 'as2819' , 'ss2981' , 'ns0756' , 'mt0825' , 'dt0463' , 'su0137' , 'dv0310' ]\n",
        "random.shuffle(student_list_fall_2023) #randomly shuffles the elements in the list\n",
        "groups = [] #empty list is created to store the student id's\n",
        "range_of_group_size = range(4, 7)  # size of group can be 4 to 6 people\n",
        "count = 0\n",
        "for i in student_list_fall_2023:\n",
        "  count= count+1\n",
        "while count >= min(range_of_group_size):\n",
        "    size_of_group = random.choice(range_of_group_size)\n",
        "    group = student_list_fall_2023[:size_of_group]\n",
        "    groups.append(group)\n",
        "    student_list_fall_2023 = student_list_fall_2023[size_of_group:]\n",
        "for group_num, group in enumerate(groups, start=1):\n",
        "    print(f\"Group {group_num}: {group}\")\n"
      ]
    },
    {
      "cell_type": "markdown",
      "metadata": {
        "id": "fmZ9vX20Qs3d"
      },
      "source": [
        "(16) Write a Python program to find the duplicate elements in a given array of integers. Return -1 If there are no such elements."
      ]
    },
    {
      "cell_type": "code",
      "execution_count": 33,
      "metadata": {
        "id": "W8Jw6sWMQs3d",
        "colab": {
          "base_uri": "https://localhost:8080/"
        },
        "outputId": "1b5d41c4-a8ac-4764-b215-a648407dfae9"
      },
      "outputs": [
        {
          "output_type": "stream",
          "name": "stdout",
          "text": [
            "First duplicate element is:  2\n"
          ]
        }
      ],
      "source": [
        "new_array = [1, 2, 4, 2, 5, 6, 4,6]\n",
        "checked_elements = set()\n",
        "first_duplicate = -1\n",
        "for i in new_array: # here we are iterating the items in the lsit through for loop\n",
        "    if i in checked_elements:\n",
        "        duplicate_element = i\n",
        "        break\n",
        "    checked_elements.add(i)\n",
        "if duplicate_element != -1: #checking for the duplicate element is there in the sample array or not\n",
        "    print(\"First duplicate element is: \",duplicate_element)\n",
        "else:\n",
        "    print(-1)\n"
      ]
    },
    {
      "cell_type": "markdown",
      "metadata": {
        "id": "hvq4APMhQs3d"
      },
      "source": [
        "(17) Write a Python program to select all the Sundays of a specified year."
      ]
    },
    {
      "cell_type": "code",
      "execution_count": 35,
      "metadata": {
        "id": "ZnoxhSglQs3d",
        "colab": {
          "base_uri": "https://localhost:8080/"
        },
        "outputId": "1f7804fd-5f29-424a-ee1f-a6cb8a0bbe92"
      },
      "outputs": [
        {
          "output_type": "stream",
          "name": "stdout",
          "text": [
            "2023-01-01\n",
            "2023-01-08\n",
            "2023-01-15\n",
            "2023-01-22\n",
            "2023-01-29\n",
            "2023-02-05\n",
            "2023-02-12\n",
            "2023-02-19\n",
            "2023-02-26\n",
            "2023-03-05\n",
            "2023-03-12\n",
            "2023-03-19\n",
            "2023-03-26\n",
            "2023-04-02\n",
            "2023-04-09\n",
            "2023-04-16\n",
            "2023-04-23\n",
            "2023-04-30\n",
            "2023-05-07\n",
            "2023-05-14\n",
            "2023-05-21\n",
            "2023-05-28\n",
            "2023-06-04\n",
            "2023-06-11\n",
            "2023-06-18\n",
            "2023-06-25\n",
            "2023-07-02\n",
            "2023-07-09\n",
            "2023-07-16\n",
            "2023-07-23\n",
            "2023-07-30\n",
            "2023-08-06\n",
            "2023-08-13\n",
            "2023-08-20\n",
            "2023-08-27\n",
            "2023-09-03\n",
            "2023-09-10\n",
            "2023-09-17\n",
            "2023-09-24\n",
            "2023-10-01\n",
            "2023-10-08\n",
            "2023-10-15\n",
            "2023-10-22\n",
            "2023-10-29\n",
            "2023-11-05\n",
            "2023-11-12\n",
            "2023-11-19\n",
            "2023-11-26\n",
            "2023-12-03\n",
            "2023-12-10\n",
            "2023-12-17\n",
            "2023-12-24\n",
            "2023-12-31\n"
          ]
        }
      ],
      "source": [
        "from datetime import date, timedelta\n",
        "year= 2023\n",
        "date1=date(year, 1, 1) #taking the first date of the year\n",
        "day_of_week = date1.weekday()#finding the day of january 1st using inbuilt function weekday\n",
        "days_until_sunday = 6 - day_of_week\n",
        "sunday = date1 + timedelta(days=days_until_sunday)#initializing first sunday\n",
        "\n",
        "# here we are Iterateing through the year by adding 7 days to each Sunday to find next Sundays of whole year\n",
        "while sunday.year == year:\n",
        "    print(sunday.strftime(\"%Y-%m-%d\"))\n",
        "    sunday += timedelta(days=7)\n"
      ]
    },
    {
      "cell_type": "markdown",
      "source": [
        "(18) Build a program that calculates the factorial of a given positive integer. The factorial of a non-negative integer n is the product of all positive integers less than or equal to n."
      ],
      "metadata": {
        "id": "55FWoSJPVVM6"
      }
    },
    {
      "cell_type": "code",
      "source": [
        "number = int(input(\"Enter the number: \"))\n",
        "if number < 0:\n",
        "    print(\"Factorial is not possible if the number is negitive.\")\n",
        "    # Factorial is not possible if the number is negitive\n",
        "else:\n",
        "    fact = 1 #here we are initializing the fact value to 1 to start the factorial\n",
        "    for i in range(1, number+1): # here we are taking a the given number as limit to iterate the loop\n",
        "      fact = fact * i\n",
        "print(\"The factorial of given number is\",fact)\n"
      ],
      "metadata": {
        "id": "hwtr1wZmVX5A",
        "colab": {
          "base_uri": "https://localhost:8080/"
        },
        "outputId": "9c4696eb-3c1e-4fa1-ceeb-9185ec513197"
      },
      "execution_count": 36,
      "outputs": [
        {
          "output_type": "stream",
          "name": "stdout",
          "text": [
            "Enter the number: 3\n",
            "The factorial of given number is 6\n"
          ]
        }
      ]
    },
    {
      "cell_type": "markdown",
      "source": [
        "(19) Write a program that takes a positive integer n as input and prints the count of even numbers from 1 to n. Use a loop to iterate through the numbers and utilize the break statement to optimize the loop."
      ],
      "metadata": {
        "id": "Q9ecagcaVazW"
      }
    },
    {
      "cell_type": "code",
      "source": [
        "a = int(input(\"Enter a positive integer limit: \"))\n",
        "if a <= 0: #checking number is postive\n",
        "    print(\"Please enter a positive integer.\")\n",
        "else:\n",
        "    even_nums = 0\n",
        "    for i in range(1, a+1): #passing each number through for loop with a as the limit\n",
        "        if i % 2 == 0: #checking whther the number is even or not\n",
        "            even_nums += 1\n",
        "        if even_nums == a // 2:\n",
        "            break\n",
        "    print(f\"Number of even numbers from 1 to {a} is {even_nums}\")\n"
      ],
      "metadata": {
        "id": "gycgckoAVZjR",
        "colab": {
          "base_uri": "https://localhost:8080/"
        },
        "outputId": "f245529f-c480-434a-dd06-99f54a6f0417"
      },
      "execution_count": 38,
      "outputs": [
        {
          "output_type": "stream",
          "name": "stdout",
          "text": [
            "Enter a positive integer limit: 6\n",
            "Number of even numbers from 1 to 6 is 3\n"
          ]
        }
      ]
    },
    {
      "cell_type": "markdown",
      "source": [
        "(20) Write a Python function called count_vowels that takes a string as input and returns the count of vowels (both lowercase and uppercase) present in the string. Consider the vowels to be 'a', 'e', 'i', 'o', and 'u'. Ignore spaces and other non-alphabetic characters."
      ],
      "metadata": {
        "id": "cboAr5pEWUf5"
      }
    },
    {
      "cell_type": "code",
      "source": [
        "def count_vowels(inp_string):\n",
        "    vowels = set(\"aeiouAEIOU\") #used set to initialize the vowels as sets are un-oredrd\n",
        "    count_of_vowels = 0\n",
        "    for i in input_str:\n",
        "        # here we are checking if the character i is an alphabetic character and a vowel\n",
        "        if i.isalpha() and i in vowels:\n",
        "            count_of_vowels += 1   #if the charecter is an vowel then the count is added to count_of_vowels\n",
        "    return count_of_vowels\n",
        "input_str = input(\"Enter a string: \")#taking the input from user\n",
        "num_of_vowels = count_vowels(input_str)\n",
        "print(\"Count of vowels:\", num_of_vowels)\n"
      ],
      "metadata": {
        "id": "phs9gciMWWAW",
        "colab": {
          "base_uri": "https://localhost:8080/"
        },
        "outputId": "edef7189-c17e-4524-c942-d34ecea099da"
      },
      "execution_count": 37,
      "outputs": [
        {
          "output_type": "stream",
          "name": "stdout",
          "text": [
            "Enter a string: sindhuja\n",
            "Count of vowels: 3\n"
          ]
        }
      ]
    },
    {
      "cell_type": "code",
      "source": [],
      "metadata": {
        "id": "9atl22zwye79"
      },
      "execution_count": null,
      "outputs": []
    }
  ],
  "metadata": {
    "colab": {
      "provenance": [],
      "include_colab_link": true
    },
    "kernelspec": {
      "display_name": "Python 3 (ipykernel)",
      "language": "python",
      "name": "python3"
    },
    "language_info": {
      "codemirror_mode": {
        "name": "ipython",
        "version": 3
      },
      "file_extension": ".py",
      "mimetype": "text/x-python",
      "name": "python",
      "nbconvert_exporter": "python",
      "pygments_lexer": "ipython3",
      "version": "3.9.12"
    }
  },
  "nbformat": 4,
  "nbformat_minor": 0
}